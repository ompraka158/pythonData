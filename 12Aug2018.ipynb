{
 "cells": [
  {
   "cell_type": "code",
   "execution_count": 3,
   "metadata": {},
   "outputs": [
    {
     "data": {
      "text/plain": [
       "[0, 0, 0, 0, 0, 1, 8, 9, 6, 5, 4, 3]"
      ]
     },
     "execution_count": 3,
     "metadata": {},
     "output_type": "execute_result"
    }
   ],
   "source": [
    "a=[0,1,6,4,3,0,8,9,0,5,0,0]\n",
    "k=0\n",
    "for i in range(len(a)):\n",
    "    if(a[i]==0):\n",
    "        a[k],a[i]=a[i],a[k]\n",
    "        k+=1\n",
    "a"
   ]
  },
  {
   "cell_type": "code",
   "execution_count": 4,
   "metadata": {},
   "outputs": [
    {
     "data": {
      "text/plain": [
       "array([[ 5,  6],\n",
       "       [ 9, 10]])"
      ]
     },
     "execution_count": 4,
     "metadata": {},
     "output_type": "execute_result"
    }
   ],
   "source": [
    "import numpy as np\n",
    "arr=np.array([[1,2,3,4],\n",
    "              [5,6,7,8],\n",
    "              [9,10,11,12],\n",
    "              [13,14,15,16]])\n",
    "arr[1:3,0:2]"
   ]
  },
  {
   "cell_type": "code",
   "execution_count": 5,
   "metadata": {},
   "outputs": [
    {
     "data": {
      "text/plain": [
       "array([[ 3,  4],\n",
       "       [ 7,  8],\n",
       "       [11, 12],\n",
       "       [15, 16]])"
      ]
     },
     "execution_count": 5,
     "metadata": {},
     "output_type": "execute_result"
    }
   ],
   "source": [
    "arr[:,2:4]"
   ]
  },
  {
   "cell_type": "code",
   "execution_count": 6,
   "metadata": {},
   "outputs": [
    {
     "data": {
      "text/plain": [
       "dtype('uint8')"
      ]
     },
     "execution_count": 6,
     "metadata": {},
     "output_type": "execute_result"
    }
   ],
   "source": [
    "import cv2 as cv\n",
    "a=cv.imread(\"C:\\\\Users\\\\ompra\\\\OneDrive\\\\Pictures\\\\20180205_224458.jpg\")\n",
    "a.dtype"
   ]
  },
  {
   "cell_type": "code",
   "execution_count": 7,
   "metadata": {},
   "outputs": [
    {
     "data": {
      "text/plain": [
       "array([[[ 9,  6,  8],\n",
       "        [ 9,  6,  8],\n",
       "        [10,  7,  9],\n",
       "        ...,\n",
       "        [22, 19, 21],\n",
       "        [22, 19, 21],\n",
       "        [22, 19, 21]],\n",
       "\n",
       "       [[ 9,  6,  8],\n",
       "        [ 9,  6,  8],\n",
       "        [ 9,  6,  8],\n",
       "        ...,\n",
       "        [23, 20, 22],\n",
       "        [23, 20, 22],\n",
       "        [23, 20, 22]],\n",
       "\n",
       "       [[ 9,  6,  8],\n",
       "        [ 9,  6,  8],\n",
       "        [ 9,  6,  8],\n",
       "        ...,\n",
       "        [26, 21, 23],\n",
       "        [23, 20, 22],\n",
       "        [22, 19, 21]],\n",
       "\n",
       "       ...,\n",
       "\n",
       "       [[ 0,  0,  0],\n",
       "        [ 0,  0,  0],\n",
       "        [ 0,  0,  0],\n",
       "        ...,\n",
       "        [ 0,  0,  0],\n",
       "        [ 0,  0,  0],\n",
       "        [ 0,  0,  0]],\n",
       "\n",
       "       [[ 0,  0,  0],\n",
       "        [ 0,  0,  0],\n",
       "        [ 0,  0,  0],\n",
       "        ...,\n",
       "        [ 0,  0,  0],\n",
       "        [ 0,  0,  0],\n",
       "        [ 0,  0,  0]],\n",
       "\n",
       "       [[ 0,  0,  0],\n",
       "        [ 0,  0,  0],\n",
       "        [ 0,  0,  0],\n",
       "        ...,\n",
       "        [ 0,  0,  0],\n",
       "        [ 0,  0,  0],\n",
       "        [ 0,  0,  0]]], dtype=uint8)"
      ]
     },
     "execution_count": 7,
     "metadata": {},
     "output_type": "execute_result"
    }
   ],
   "source": [
    "import cv2 as cv\n",
    "cap=cv.VideoCapture(0)\n",
    "while(1):\n",
    "    ret,frame=cap.read()\n",
    "    cv.imshow(\"window\",frame)\n",
    "    if(cv.waitKey(1)==ord(\"q\")):\n",
    "        cv.imwrite(\"a.jpg\",frame)\n",
    "        break\n",
    "cap.release()\n",
    "cv.destroyAllWindows()\n",
    "a=cv.imread(\"a.jpg\")\n",
    "a"
   ]
  },
  {
   "cell_type": "markdown",
   "metadata": {},
   "source": [
    "    above code is for video capture and getting an image."
   ]
  },
  {
   "cell_type": "code",
   "execution_count": 8,
   "metadata": {},
   "outputs": [],
   "source": [
    "import cv2 as cv\n",
    "cap=cv.VideoCapture(0)\n",
    "while(1):\n",
    "    ret,frame=cap.read()\n",
    "    gray=cv.cvtColor(frame,cv.COLOR_BGR2GRAY)\n",
    "    cv.imshow(\"GRAY\",gray)\n",
    "    cv.imshow(\"win\",frame)\n",
    "    if(cv.waitKey(1)==ord(\"q\")):\n",
    "        cv.imwrite(\"a.jpg\",frame)\n",
    "        break\n",
    "cap.release()\n",
    "cv.destroyAllWindows()"
   ]
  },
  {
   "cell_type": "markdown",
   "metadata": {},
   "source": [
    "    above code is for video capture in gray scale and getting an image."
   ]
  }
 ],
 "metadata": {
  "kernelspec": {
   "display_name": "Python 3",
   "language": "python",
   "name": "python3"
  },
  "language_info": {
   "codemirror_mode": {
    "name": "ipython",
    "version": 3
   },
   "file_extension": ".py",
   "mimetype": "text/x-python",
   "name": "python",
   "nbconvert_exporter": "python",
   "pygments_lexer": "ipython3",
   "version": "3.6.4"
  }
 },
 "nbformat": 4,
 "nbformat_minor": 2
}
