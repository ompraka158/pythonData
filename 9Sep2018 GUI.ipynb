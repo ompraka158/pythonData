{
 "cells": [
  {
   "cell_type": "code",
   "execution_count": 8,
   "metadata": {},
   "outputs": [
    {
     "name": "stdout",
     "output_type": "stream",
     "text": [
      "Hello\n",
      "<class 'tkinter.Label'>\n",
      "<class 'tkinter.Button'>\n"
     ]
    }
   ],
   "source": [
    "from tkinter import *\n",
    "root=Tk()\n",
    "label=Label(root,text=\"I am a label Widget\",bg=\"red\",fg=\"white\").pack()\n",
    "button=Button(root,text=\"I am a button\",command=print(\"Hello\")).pack()\n",
    "\n",
    "print(type(label))\n",
    "print(type(button))\n",
    "root.mainloop()"
   ]
  },
  {
   "cell_type": "code",
   "execution_count": 14,
   "metadata": {},
   "outputs": [],
   "source": [
    "from tkinter import *\n",
    "root=Tk()\n",
    "frame=Frame(root)\n",
    "label=Label(frame,text=\"I am a label Widget\",bg=\"red\",fg=\"white\").pack()\n",
    "button=Button(frame,text=\"A\").pack(side=LEFT,fill=Y)\n",
    "button=Button(frame,text=\"B\").pack(side=TOP,fill=X)\n",
    "button=Button(frame,text=\"C\").pack(side=RIGHT,fill=NONE)\n",
    "button=Button(frame,text=\"D\").pack(side=TOP,fill=BOTH)\n",
    "frame.pack()\n",
    "button=Button(root,text=\"I do not fill X but I expand\").pack(expand=1)\n",
    "button=Button(root,text=\"I do not fill X and I expand\").pack(fill=X,expand=1)\n",
    "root.mainloop()"
   ]
  },
  {
   "cell_type": "code",
   "execution_count": 27,
   "metadata": {},
   "outputs": [],
   "source": [
    "a=Tk()\n",
    "Label(a,text=\"Username\").grid(row=0)\n",
    "Label(a,text=\"Password\").grid(row=1)\n",
    "Entry(a).grid(row=0,column=1)\n",
    "Entry(a).grid(row=1,column=1)\n",
    "Button(a,text=\"Login\").grid(row=2,column=1,sticky='W')\n",
    "a.mainloop()"
   ]
  },
  {
   "cell_type": "markdown",
   "metadata": {},
   "source": [
    "\"sticky\" gets the value for positon \"NSEW\" i.e., North-East-West-South"
   ]
  },
  {
   "cell_type": "code",
   "execution_count": null,
   "metadata": {},
   "outputs": [],
   "source": []
  }
 ],
 "metadata": {
  "kernelspec": {
   "display_name": "Python 3",
   "language": "python",
   "name": "python3"
  },
  "language_info": {
   "codemirror_mode": {
    "name": "ipython",
    "version": 3
   },
   "file_extension": ".py",
   "mimetype": "text/x-python",
   "name": "python",
   "nbconvert_exporter": "python",
   "pygments_lexer": "ipython3",
   "version": "3.6.4"
  }
 },
 "nbformat": 4,
 "nbformat_minor": 2
}
